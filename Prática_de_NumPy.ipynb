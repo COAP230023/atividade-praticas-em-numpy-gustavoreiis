{
  "nbformat": 4,
  "nbformat_minor": 0,
  "metadata": {
    "colab": {
      "provenance": [],
      "authorship_tag": "ABX9TyNjAY86SQOIplnoUJ5SUxkU",
      "include_colab_link": true
    },
    "kernelspec": {
      "name": "python3",
      "display_name": "Python 3"
    },
    "language_info": {
      "name": "python"
    }
  },
  "cells": [
    {
      "cell_type": "markdown",
      "metadata": {
        "id": "view-in-github",
        "colab_type": "text"
      },
      "source": [
        "<a href=\"https://colab.research.google.com/github/COAP230023/atividade-praticas-em-numpy-gustavoreiis/blob/main/Pr%C3%A1tica_de_NumPy.ipynb\" target=\"_parent\"><img src=\"https://colab.research.google.com/assets/colab-badge.svg\" alt=\"Open In Colab\"/></a>"
      ]
    },
    {
      "cell_type": "markdown",
      "source": [
        "# Treino de NumPy — 42 exercícios hands-on\n",
        "\n",
        "**Objetivo:** praticar manipulação de arrays NumPy (criação, slicing, broadcasting, álgebra linear, estatística, datas, strides).\n",
        "**Regras:** use **apenas** NumPy (`import numpy as np`). Para reprodutibilidade, prefira `np.random.default_rng(seed)`.\n"
      ],
      "metadata": {
        "id": "1ZWqWMfa_nNc"
      }
    },
    {
      "cell_type": "code",
      "source": [
        "import numpy as np"
      ],
      "metadata": {
        "id": "s8YiFfNXAvzP"
      },
      "execution_count": 6,
      "outputs": []
    },
    {
      "cell_type": "markdown",
      "source": [
        "### 1. Vetor de zeros  _(fácil)_\n",
        "\n",
        "Crie um array 1D com 10 zeros usando NumPy e mostre o dtype e o shape."
      ],
      "metadata": {
        "id": "NDuTr4UiAQVs"
      }
    },
    {
      "cell_type": "code",
      "source": [
        "a = np.zeros(10)\n",
        "a.dtype\n"
      ],
      "metadata": {
        "colab": {
          "base_uri": "https://localhost:8080/"
        },
        "id": "K_2eOLdeAVAz",
        "outputId": "9c39c671-693c-41d8-9c63-c25440c8460a"
      },
      "execution_count": 7,
      "outputs": [
        {
          "output_type": "execute_result",
          "data": {
            "text/plain": [
              "dtype('float64')"
            ]
          },
          "metadata": {},
          "execution_count": 7
        }
      ]
    },
    {
      "cell_type": "code",
      "source": [
        "a.shape"
      ],
      "metadata": {
        "colab": {
          "base_uri": "https://localhost:8080/"
        },
        "id": "hdl4PR7ZCKlL",
        "outputId": "e8374a18-0945-4e90-eeec-58dd5bee7af0"
      },
      "execution_count": 8,
      "outputs": [
        {
          "output_type": "execute_result",
          "data": {
            "text/plain": [
              "(10,)"
            ]
          },
          "metadata": {},
          "execution_count": 8
        }
      ]
    },
    {
      "cell_type": "markdown",
      "source": [
        "### 2. Vetor de uns  _(fácil)_\n",
        "\n",
        "Crie um array 1D com 10 uns e transforme-o em float64.\n"
      ],
      "metadata": {
        "id": "ElmeasLdCUYi"
      }
    },
    {
      "cell_type": "code",
      "source": [
        "b = np.ones(10)\n",
        "res = np.float64(b)\n",
        "res"
      ],
      "metadata": {
        "colab": {
          "base_uri": "https://localhost:8080/"
        },
        "id": "MGrN8o85CY69",
        "outputId": "e520c559-6cc2-4f7c-970a-93dfa666b1b6"
      },
      "execution_count": 9,
      "outputs": [
        {
          "output_type": "execute_result",
          "data": {
            "text/plain": [
              "array([1., 1., 1., 1., 1., 1., 1., 1., 1., 1.])"
            ]
          },
          "metadata": {},
          "execution_count": 9
        }
      ]
    },
    {
      "cell_type": "markdown",
      "source": [
        "### 3. Sequência 0–9  _(fácil)_\n",
        "\n",
        "Crie um array com os inteiros de 0 a 9 (inclusive)."
      ],
      "metadata": {
        "id": "NqCdn3OAD3gy"
      }
    },
    {
      "cell_type": "code",
      "source": [
        "c = np.arange(10)\n",
        "c"
      ],
      "metadata": {
        "colab": {
          "base_uri": "https://localhost:8080/"
        },
        "id": "FFT7cLOFECWh",
        "outputId": "5ab368f2-af66-4bd9-fe96-a98bcd0e429a"
      },
      "execution_count": 10,
      "outputs": [
        {
          "output_type": "execute_result",
          "data": {
            "text/plain": [
              "array([0, 1, 2, 3, 4, 5, 6, 7, 8, 9])"
            ]
          },
          "metadata": {},
          "execution_count": 10
        }
      ]
    },
    {
      "cell_type": "markdown",
      "source": [
        "### 4. Matriz 3×3 com 0…8  _(fácil)_\n",
        "\n",
        "Crie um array 3×3 com os valores 0…8 (reshape)."
      ],
      "metadata": {
        "id": "6Nj6G8RUEdo1"
      }
    },
    {
      "cell_type": "code",
      "source": [
        "d = np.arange(9).reshape(3, 3)\n",
        "d"
      ],
      "metadata": {
        "colab": {
          "base_uri": "https://localhost:8080/"
        },
        "id": "qaEt4wY2EhH-",
        "outputId": "ded2d3fc-10bf-4b1e-aedf-352b6349bf86"
      },
      "execution_count": 11,
      "outputs": [
        {
          "output_type": "execute_result",
          "data": {
            "text/plain": [
              "array([[0, 1, 2],\n",
              "       [3, 4, 5],\n",
              "       [6, 7, 8]])"
            ]
          },
          "metadata": {},
          "execution_count": 11
        }
      ]
    },
    {
      "cell_type": "markdown",
      "source": [
        "### 5. Índices não zero  _(fácil)_\n",
        "\n",
        "Dado o vetor `v = np.array([1,2,0,0,4,0])`, encontre os índices dos elementos não nulos."
      ],
      "metadata": {
        "id": "CPRSG69RFzHp"
      }
    },
    {
      "cell_type": "code",
      "source": [
        "v = np.array([1,2,0,0,4,0])\n",
        "np.nonzero(v)\n",
        "# Exibe o índice dos valores não nulos"
      ],
      "metadata": {
        "colab": {
          "base_uri": "https://localhost:8080/"
        },
        "id": "aRnDAS7LF_bd",
        "outputId": "089f0467-f1aa-4fa3-a50d-7c05425b6a97"
      },
      "execution_count": 12,
      "outputs": [
        {
          "output_type": "execute_result",
          "data": {
            "text/plain": [
              "(array([0, 1, 4]),)"
            ]
          },
          "metadata": {},
          "execution_count": 12
        }
      ]
    },
    {
      "cell_type": "markdown",
      "source": [
        "### 6. Linspace  _(fácil)_\n",
        "\n",
        "Crie um vetor de 12 pontos igualmente espaçados no intervalo [0, 1]."
      ],
      "metadata": {
        "id": "TCy1uLDAIeJz"
      }
    },
    {
      "cell_type": "code",
      "source": [
        "e = np.linspace(0, 1, 12)\n",
        "e"
      ],
      "metadata": {
        "colab": {
          "base_uri": "https://localhost:8080/"
        },
        "id": "GdgWUkifIhSa",
        "outputId": "103ed046-991b-4b96-ea4a-8566f655d5ee"
      },
      "execution_count": 13,
      "outputs": [
        {
          "output_type": "execute_result",
          "data": {
            "text/plain": [
              "array([0.        , 0.09090909, 0.18181818, 0.27272727, 0.36363636,\n",
              "       0.45454545, 0.54545455, 0.63636364, 0.72727273, 0.81818182,\n",
              "       0.90909091, 1.        ])"
            ]
          },
          "metadata": {},
          "execution_count": 13
        }
      ]
    },
    {
      "cell_type": "markdown",
      "source": [
        "### 7. Identidade 5×5  _(fácil)_\n",
        "\n",
        "Crie uma matriz identidade de ordem 5."
      ],
      "metadata": {
        "id": "UlCARDH5I1Gy"
      }
    },
    {
      "cell_type": "code",
      "source": [
        "f = np.eye(5)\n",
        "f"
      ],
      "metadata": {
        "colab": {
          "base_uri": "https://localhost:8080/"
        },
        "id": "YpfJLLWeI5DM",
        "outputId": "8ffda748-de59-4cb3-d70f-1c37f3622157"
      },
      "execution_count": 14,
      "outputs": [
        {
          "output_type": "execute_result",
          "data": {
            "text/plain": [
              "array([[1., 0., 0., 0., 0.],\n",
              "       [0., 1., 0., 0., 0.],\n",
              "       [0., 0., 1., 0., 0.],\n",
              "       [0., 0., 0., 1., 0.],\n",
              "       [0., 0., 0., 0., 1.]])"
            ]
          },
          "metadata": {},
          "execution_count": 14
        }
      ]
    },
    {
      "cell_type": "markdown",
      "source": [
        "### 8. Aleatórios 3×3×3  _(fácil)_\n",
        "\n",
        "Gere um array 3×3×3 com valores aleatórios uniformes em [0,1). Use `np.random.default_rng(42)`."
      ],
      "metadata": {
        "id": "K6NSb_eIJARj"
      }
    },
    {
      "cell_type": "code",
      "source": [
        "rng = np.random.default_rng(42)\n",
        "g = rng.random((3, 3, 3))\n",
        "g"
      ],
      "metadata": {
        "colab": {
          "base_uri": "https://localhost:8080/"
        },
        "id": "7YYkm36CJMjx",
        "outputId": "ff947e74-bffd-4a20-e2a0-e2543bb8a9bd"
      },
      "execution_count": 15,
      "outputs": [
        {
          "output_type": "execute_result",
          "data": {
            "text/plain": [
              "array([[[0.77395605, 0.43887844, 0.85859792],\n",
              "        [0.69736803, 0.09417735, 0.97562235],\n",
              "        [0.7611397 , 0.78606431, 0.12811363]],\n",
              "\n",
              "       [[0.45038594, 0.37079802, 0.92676499],\n",
              "        [0.64386512, 0.82276161, 0.4434142 ],\n",
              "        [0.22723872, 0.55458479, 0.06381726]],\n",
              "\n",
              "       [[0.82763117, 0.6316644 , 0.75808774],\n",
              "        [0.35452597, 0.97069802, 0.89312112],\n",
              "        [0.7783835 , 0.19463871, 0.466721  ]]])"
            ]
          },
          "metadata": {},
          "execution_count": 15
        }
      ]
    },
    {
      "cell_type": "markdown",
      "source": [
        "### 9. Min/Max  _(fácil)_\n",
        "\n",
        "Crie uma matriz 10×10 de aleatórios uniformes e mostre o valor mínimo e máximo."
      ],
      "metadata": {
        "id": "4MW5N1YeL45c"
      }
    },
    {
      "cell_type": "code",
      "source": [
        "\n",
        "h = rng.random((10, 10))\n",
        "print(\"Mínimo: \", h.min())\n",
        "print(\"Máximo: \", h.max())"
      ],
      "metadata": {
        "id": "cw0fjdAPL7ZH",
        "colab": {
          "base_uri": "https://localhost:8080/"
        },
        "outputId": "ddd60196-33e4-47ed-a110-f3aff4603f1f"
      },
      "execution_count": 16,
      "outputs": [
        {
          "output_type": "stream",
          "name": "stdout",
          "text": [
            "Mínimo:  0.007362269751005512\n",
            "Máximo:  0.9691763773477239\n"
          ]
        }
      ]
    },
    {
      "cell_type": "markdown",
      "source": [
        "### 10. Padronização 1D  _(fácil)_\n",
        "\n",
        "Dado `x = [1,2,3,4,5]`, crie um array float e normalize para média 0 e desvio 1."
      ],
      "metadata": {
        "id": "ckDiFM49BNLa"
      }
    },
    {
      "cell_type": "code",
      "source": [
        "i = [1, 2, 3, 4, 5]\n",
        "i = np.array(i, dtype=float)\n",
        "i_std = (i - i.mean()) / i.std()\n",
        "print(i_std, i_std.mean(), i_std.std())"
      ],
      "metadata": {
        "id": "bmyF1PsLBzxk",
        "outputId": "b8a00c73-26a9-4b09-8fd8-1155a7b17f63",
        "colab": {
          "base_uri": "https://localhost:8080/"
        }
      },
      "execution_count": 17,
      "outputs": [
        {
          "output_type": "stream",
          "name": "stdout",
          "text": [
            "[-1.41421356 -0.70710678  0.          0.70710678  1.41421356] 0.0 0.9999999999999999\n"
          ]
        }
      ]
    },
    {
      "cell_type": "markdown",
      "source": [
        "### 11. Conversão de tipos  _(fácil)_\n",
        "\n",
        "Converta `np.array([1,2,3])` (int32) para float32 e depois para int64."
      ],
      "metadata": {
        "id": "2uEdDIKBCEmx"
      }
    },
    {
      "cell_type": "code",
      "source": [
        "j = np.array([1, 2, 3], dtype=np.int32)\n",
        "jFloat = j.astype(np.float32)\n",
        "jInt = jFloat.astype(np.int64)\n",
        "print(j.dtype, jFloat, jInt)"
      ],
      "metadata": {
        "id": "Xf9jZityCInu",
        "outputId": "ca2a9a97-baf3-4c92-94c6-1fe11c9384a8",
        "colab": {
          "base_uri": "https://localhost:8080/"
        }
      },
      "execution_count": 21,
      "outputs": [
        {
          "output_type": "stream",
          "name": "stdout",
          "text": [
            "int32 [1. 2. 3.] [1 2 3]\n"
          ]
        }
      ]
    },
    {
      "cell_type": "markdown",
      "source": [
        "### 12. Clipping  _(fácil)_\n",
        "\n",
        "Dado `a = [2, 5, 7, 1, 9]`, limite os valores ao intervalo [0,5] (valores acima de 5 tornam-se 5)."
      ],
      "metadata": {
        "id": "viLUl6OtE0Vi"
      }
    },
    {
      "cell_type": "code",
      "source": [
        "k = np.array([2, 5, 7, 1, 9])\n",
        "clipped = np.clip(k, 0, 5)\n",
        "clipped"
      ],
      "metadata": {
        "id": "Dcbq-waDE3ld",
        "outputId": "e6b31a7c-dd6b-4847-c807-857535d91f90",
        "colab": {
          "base_uri": "https://localhost:8080/"
        }
      },
      "execution_count": 25,
      "outputs": [
        {
          "output_type": "execute_result",
          "data": {
            "text/plain": [
              "array([2, 5, 5, 1, 5])"
            ]
          },
          "metadata": {},
          "execution_count": 25
        }
      ]
    },
    {
      "cell_type": "markdown",
      "source": [
        "### 13. Inversão  _(fácil)_\n",
        "\n",
        "Crie um vetor de 0 a 9 e inverta a ordem (sem usar `[::-1]`)."
      ],
      "metadata": {
        "id": "e9NdM2s1Fbjr"
      }
    },
    {
      "cell_type": "code",
      "source": [
        "l = np.arange(10)\n",
        "li = np.flip(l)\n",
        "li"
      ],
      "metadata": {
        "id": "wnFe_XCBGsrn",
        "outputId": "4bde5515-c7d0-466f-bb6a-5b3750aef315",
        "colab": {
          "base_uri": "https://localhost:8080/"
        }
      },
      "execution_count": 26,
      "outputs": [
        {
          "output_type": "execute_result",
          "data": {
            "text/plain": [
              "array([9, 8, 7, 6, 5, 4, 3, 2, 1, 0])"
            ]
          },
          "metadata": {},
          "execution_count": 26
        }
      ]
    },
    {
      "cell_type": "markdown",
      "source": [
        "### 14. Empilhamento  _(fácil)_\n",
        "\n",
        "Dado `a = [1,2,3]` e `b = [4,5,6]`, empilhe horizontal e verticalmente."
      ],
      "metadata": {
        "id": "AW7NIW1gG3XU"
      }
    },
    {
      "cell_type": "code",
      "source": [
        "a = np.array([1, 2, 3])\n",
        "b = np.array([4, 5, 6])\n",
        "\n",
        "h = np.hstack((a, b))\n",
        "v = np.vstack((a, b))\n",
        "print(h)\n",
        "print(v)"
      ],
      "metadata": {
        "id": "86E05bnHG-IF",
        "outputId": "5f65a0aa-ea57-4b19-d673-d6c818ce41b5",
        "colab": {
          "base_uri": "https://localhost:8080/"
        }
      },
      "execution_count": 27,
      "outputs": [
        {
          "output_type": "stream",
          "name": "stdout",
          "text": [
            "[1 2 3 4 5 6]\n",
            "[[1 2 3]\n",
            " [4 5 6]]\n"
          ]
        }
      ]
    },
    {
      "cell_type": "markdown",
      "source": [
        "### 15. Diagonal  _(fácil)_\n",
        "\n",
        "Crie uma matriz 4×4 com a diagonal principal igual a 5 e as demais entradas zero."
      ],
      "metadata": {
        "id": "QpP-AJDeHH8d"
      }
    },
    {
      "cell_type": "code",
      "source": [
        "m = np.diag(np.full(4, 5))\n",
        "print(m)"
      ],
      "metadata": {
        "id": "TiuvTIGUHNmq",
        "outputId": "6c550639-4d8a-41d0-883b-e8044a31d899",
        "colab": {
          "base_uri": "https://localhost:8080/"
        }
      },
      "execution_count": 28,
      "outputs": [
        {
          "output_type": "stream",
          "name": "stdout",
          "text": [
            "[[5 0 0 0]\n",
            " [0 5 0 0]\n",
            " [0 0 5 0]\n",
            " [0 0 0 5]]\n"
          ]
        }
      ]
    },
    {
      "cell_type": "markdown",
      "source": [
        "### 16. Somas por eixo  _(fácil)_\n",
        "\n",
        "Para a matriz `A = np.arange(12).reshape(3,4)`, calcule a soma por linhas e por colunas."
      ],
      "metadata": {
        "id": "E7cs7xqZHWCk"
      }
    },
    {
      "cell_type": "code",
      "source": [
        "n = np.arange(12).reshape(3, 4)\n",
        "soma_linhas = n.sum(axis=1)\n",
        "soma_colunas = n.sum(axis=0)\n",
        "print(\"linhas:\", soma_linhas)\n",
        "print(\"colunas:\", soma_colunas)"
      ],
      "metadata": {
        "id": "gLR_pM4bHYUU",
        "outputId": "a12585e2-b12d-48af-c134-26e69416e856",
        "colab": {
          "base_uri": "https://localhost:8080/"
        }
      },
      "execution_count": 29,
      "outputs": [
        {
          "output_type": "stream",
          "name": "stdout",
          "text": [
            "linhas: [ 6 22 38]\n",
            "colunas: [12 15 18 21]\n"
          ]
        }
      ]
    },
    {
      "cell_type": "markdown",
      "source": [
        "### 17. Frequências inteiras  _(fácil)_\n",
        "\n",
        "Gere 100 inteiros aleatórios em [0,9] e conte as frequências de cada valor (0 a 9)."
      ],
      "metadata": {
        "id": "at_aKN4MHjhh"
      }
    },
    {
      "cell_type": "code",
      "source": [
        "o = rng.integers(0, 10, size=100)\n",
        "freq = np.bincount(o, minlength=10)\n",
        "print(freq)"
      ],
      "metadata": {
        "id": "QSyIVdZBH4cS",
        "outputId": "9b3c4b65-0232-4253-e567-6584099c6d65",
        "colab": {
          "base_uri": "https://localhost:8080/"
        }
      },
      "execution_count": 30,
      "outputs": [
        {
          "output_type": "stream",
          "name": "stdout",
          "text": [
            "[ 7 13 13  9 11 13 10  5  6 13]\n"
          ]
        }
      ]
    },
    {
      "cell_type": "markdown",
      "source": [
        "### 18. Slicing com passo  _(fácil)_\n",
        "\n",
        "Dado `v = np.arange(20)`, selecione cada 3º elemento começando do índice 1."
      ],
      "metadata": {
        "id": "vYgYcNdKIBJN"
      }
    },
    {
      "cell_type": "code",
      "source": [
        "p = np.arange(20)\n",
        "x = p[1::3]\n",
        "print(x)"
      ],
      "metadata": {
        "id": "FAxfArlUIFKU",
        "outputId": "e7d24206-51cf-4264-b0e0-3316fe12c9d9",
        "colab": {
          "base_uri": "https://localhost:8080/"
        }
      },
      "execution_count": 31,
      "outputs": [
        {
          "output_type": "stream",
          "name": "stdout",
          "text": [
            "[ 1  4  7 10 13 16 19]\n"
          ]
        }
      ]
    },
    {
      "cell_type": "markdown",
      "source": [
        "### 19. Máscara booleana  _(fácil)_\n",
        "\n",
        "Crie uma máscara para números pares de `0…19` e use-a para filtrar o vetor."
      ],
      "metadata": {
        "id": "33RgT1XxINaF"
      }
    },
    {
      "cell_type": "code",
      "source": [
        "q = np.arange(20)\n",
        "mask = (q % 2 == 0)\n",
        "pares = q[mask]\n",
        "print(mask)\n",
        "print(pares)"
      ],
      "metadata": {
        "id": "LQEtMJcaIP8U",
        "outputId": "e015526d-b737-41fc-c4ee-bda546782f4e",
        "colab": {
          "base_uri": "https://localhost:8080/"
        }
      },
      "execution_count": 32,
      "outputs": [
        {
          "output_type": "stream",
          "name": "stdout",
          "text": [
            "[ True False  True False  True False  True False  True False  True False\n",
            "  True False  True False  True False  True False]\n",
            "[ 0  2  4  6  8 10 12 14 16 18]\n"
          ]
        }
      ]
    },
    {
      "cell_type": "markdown",
      "source": [
        "### 20. Lista de listas → array  _(fácil)_\n",
        "\n",
        "Converta `[[1,2,3],[4,5,6]]` em `ndarray`, verifique `shape` e `dtype`."
      ],
      "metadata": {
        "id": "VKrZbbdYIby6"
      }
    },
    {
      "cell_type": "code",
      "source": [
        "r = [[1, 2, 3], [4, 5, 6]]\n",
        "arr = np.array(r)\n",
        "print(arr)\n",
        "print(\"shape:\", arr.shape, \"dtype:\", arr.dtype)\n"
      ],
      "metadata": {
        "id": "k0zHLVIrIiRQ",
        "outputId": "1f5c1039-1b43-4dfe-991d-1fa3ed381bf3",
        "colab": {
          "base_uri": "https://localhost:8080/"
        }
      },
      "execution_count": 33,
      "outputs": [
        {
          "output_type": "stream",
          "name": "stdout",
          "text": [
            "[[1 2 3]\n",
            " [4 5 6]]\n",
            "shape: (2, 3) dtype: int64\n"
          ]
        }
      ]
    },
    {
      "cell_type": "markdown",
      "source": [
        "### 21. Datas básicas  _(fácil)_\n",
        "\n",
        "Crie um array de datas diárias de 2025-01-01 a 2025-01-07 (inclusive)."
      ],
      "metadata": {
        "id": "guT9ZylDIrkT"
      }
    },
    {
      "cell_type": "code",
      "source": [
        "datas = np.arange('2025-01-01', '2025-01-08', dtype='datetime64[D]')\n",
        "print(datas)"
      ],
      "metadata": {
        "id": "C3eK5fEFIviz",
        "outputId": "c7d19569-16a3-4b8b-bc78-3ebd2f464136",
        "colab": {
          "base_uri": "https://localhost:8080/"
        }
      },
      "execution_count": 34,
      "outputs": [
        {
          "output_type": "stream",
          "name": "stdout",
          "text": [
            "['2025-01-01' '2025-01-02' '2025-01-03' '2025-01-04' '2025-01-05'\n",
            " '2025-01-06' '2025-01-07']\n"
          ]
        }
      ]
    },
    {
      "cell_type": "markdown",
      "source": [
        "### 22. Centralizar colunas  _(fácil)_\n",
        "\n",
        "Dada `A = np.array([[1.,2.,3.],[4.,5.,6.]])`, subtraia a média de cada coluna."
      ],
      "metadata": {
        "id": "MnHFEVB6I-5D"
      }
    },
    {
      "cell_type": "code",
      "source": [
        "s = np.array([[1., 2., 3.],\n",
        "              [4., 5., 6.]])\n",
        "sCentered = s - s.mean(axis=0, keepdims=True)\n",
        "print(sCentered)"
      ],
      "metadata": {
        "id": "FMaGNGX9JDIt",
        "outputId": "331ad1e8-d78e-4c74-a5c1-db95078dcd16",
        "colab": {
          "base_uri": "https://localhost:8080/"
        }
      },
      "execution_count": 35,
      "outputs": [
        {
          "output_type": "stream",
          "name": "stdout",
          "text": [
            "[[-1.5 -1.5 -1.5]\n",
            " [ 1.5  1.5  1.5]]\n"
          ]
        }
      ]
    },
    {
      "cell_type": "markdown",
      "source": [
        "### 23. Produto elemento-a-elemento vs. escalar  _(fácil)_\n",
        "\n",
        "Dadas `a=[1,2,3]` e `b=[4,5,6]`, calcule produto elemento a elemento e o produto escalar."
      ],
      "metadata": {
        "id": "ErKnVVnGJM8Y"
      }
    },
    {
      "cell_type": "markdown",
      "source": [
        "a = np.array([1, 2, 3])\n",
        "b = np.array([4, 5, 6])\n",
        "\n",
        "elem = a * b\n",
        "dot1 = np.dot(a, b)\n",
        "dot2 = a @ b\n",
        "print(elem, dot1, dot2)"
      ],
      "metadata": {
        "id": "o2e-hG--JZXa"
      }
    },
    {
      "cell_type": "code",
      "source": [
        "a = np.array([1, 2, 3])\n",
        "b = np.array([4, 5, 6])\n",
        "\n",
        "elem = a * b\n",
        "dot1 = np.dot(a, b)\n",
        "dot2 = a @ b\n",
        "print(elem, dot1, dot2)"
      ],
      "metadata": {
        "id": "gDMEKkufJrA8",
        "outputId": "74a79e53-7189-4518-df63-66fdc37ac193",
        "colab": {
          "base_uri": "https://localhost:8080/"
        }
      },
      "execution_count": 36,
      "outputs": [
        {
          "output_type": "stream",
          "name": "stdout",
          "text": [
            "[ 4 10 18] 32 32\n"
          ]
        }
      ]
    },
    {
      "cell_type": "markdown",
      "source": [
        "### 24. Troca de colunas  _(fácil)_\n",
        "\n",
        "Troque as colunas 0 e 2 de `A = np.arange(12).reshape(3,4)` sem copiar (sempre que possível)."
      ],
      "metadata": {
        "id": "YGMabIJ3J5D8"
      }
    },
    {
      "cell_type": "code",
      "source": [
        "A = np.arange(12).reshape(3, 4)\n",
        "tmp = A[:, 0].copy()\n",
        "A[:, 0] = A[:, 2]\n",
        "A[:, 2] = tmp\n",
        "print(A)"
      ],
      "metadata": {
        "id": "6jdrxcMAKDrh",
        "outputId": "c509f4ac-7603-4a3f-f03a-e95ae8dbb3c0",
        "colab": {
          "base_uri": "https://localhost:8080/"
        }
      },
      "execution_count": 37,
      "outputs": [
        {
          "output_type": "stream",
          "name": "stdout",
          "text": [
            "[[ 2  1  0  3]\n",
            " [ 6  5  4  7]\n",
            " [10  9  8 11]]\n"
          ]
        }
      ]
    },
    {
      "cell_type": "markdown",
      "source": [
        "### 25. Flatten vs. ravel  _(médio)_\n",
        "\n",
        "Mostre a diferença entre `flatten()` (cópia) e `ravel()` (view quando possível). Modifique o resultado de `ravel()` e observe o original."
      ],
      "metadata": {
        "id": "C6fPq2IOKH15"
      }
    },
    {
      "cell_type": "code",
      "source": [
        "a = np.array([[1, 2, 3], [4, 5, 6]])\n",
        "b = a.flatten()\n",
        "c = a.ravel()\n",
        "\n",
        "c[0] = 99\n",
        "\n",
        "print(a)\n",
        "print(b)"
      ],
      "metadata": {
        "id": "oo6lmX0-Kakf",
        "outputId": "3c5a8a4b-1ff4-45b8-b5e0-ac208f560747",
        "colab": {
          "base_uri": "https://localhost:8080/"
        }
      },
      "execution_count": 40,
      "outputs": [
        {
          "output_type": "stream",
          "name": "stdout",
          "text": [
            "[[99  2  3]\n",
            " [ 4  5  6]]\n",
            "[1 2 3 4 5 6]\n"
          ]
        }
      ]
    },
    {
      "cell_type": "markdown",
      "source": [
        "### 26. Tabuleiro 8×8  _(médio)_\n",
        "\n",
        "Crie uma matriz 8×8 com padrão de tabuleiro (0 e 1 alternados)."
      ],
      "metadata": {
        "id": "R9VEQV6wKhvJ"
      }
    },
    {
      "cell_type": "code",
      "source": [
        "d = np.zeros((8, 8), dtype=int);\n",
        "\n",
        "d[1::2, ::2] = 1\n",
        "d[::2, 1::2] = 1\n",
        "\n",
        "d"
      ],
      "metadata": {
        "id": "aOaovdG0KtFD",
        "outputId": "32936e62-4818-4d7f-9e5c-f98d4cd34b4c",
        "colab": {
          "base_uri": "https://localhost:8080/"
        }
      },
      "execution_count": 45,
      "outputs": [
        {
          "output_type": "execute_result",
          "data": {
            "text/plain": [
              "array([[0, 1, 0, 1, 0, 1, 0, 1],\n",
              "       [1, 0, 1, 0, 1, 0, 1, 0],\n",
              "       [0, 1, 0, 1, 0, 1, 0, 1],\n",
              "       [1, 0, 1, 0, 1, 0, 1, 0],\n",
              "       [0, 1, 0, 1, 0, 1, 0, 1],\n",
              "       [1, 0, 1, 0, 1, 0, 1, 0],\n",
              "       [0, 1, 0, 1, 0, 1, 0, 1],\n",
              "       [1, 0, 1, 0, 1, 0, 1, 0]])"
            ]
          },
          "metadata": {},
          "execution_count": 45
        }
      ]
    },
    {
      "cell_type": "markdown",
      "source": [
        "### 27. np.where condicional  _(médio)_\n",
        "\n",
        "Dado `x = np.arange(-5,6)`, substitua negativos por 0 e mantenha não-negativos."
      ],
      "metadata": {
        "id": "QGiFb0EvLyFj"
      }
    },
    {
      "cell_type": "code",
      "source": [
        "x = np.arange(-5, 6)\n",
        "y = np.where(x < 0, 0, x)\n",
        "print(\"x:\", x)\n",
        "print(\"y:\", y)"
      ],
      "metadata": {
        "id": "alqMZYbKL1qh",
        "outputId": "d41d2012-9135-425f-f237-4536d812c4b8",
        "colab": {
          "base_uri": "https://localhost:8080/"
        }
      },
      "execution_count": 46,
      "outputs": [
        {
          "output_type": "stream",
          "name": "stdout",
          "text": [
            "x: [-5 -4 -3 -2 -1  0  1  2  3  4  5]\n",
            "y: [0 0 0 0 0 0 1 2 3 4 5]\n"
          ]
        }
      ]
    },
    {
      "cell_type": "markdown",
      "source": [
        "### 28. Precisão de média  _(médio)_\n",
        "\n",
        "Gere 1_000_000 floats uniformes em [0,1) e compute a média. Compare com o valor teórico 0.5 (erro absoluto)."
      ],
      "metadata": {
        "id": "0chKVf68MASS"
      }
    },
    {
      "cell_type": "code",
      "source": [
        "e = rng.random(1_000_000)\n",
        "media = e.mean()\n",
        "err_abs = abs(media - 0.5)\n",
        "print(\"média:\", media, \"erro absoluto:\", err_abs)"
      ],
      "metadata": {
        "id": "B1dSmjzTMy2P",
        "outputId": "00844c35-fa5a-431a-9e1e-02684c22d4dd",
        "colab": {
          "base_uri": "https://localhost:8080/"
        }
      },
      "execution_count": 47,
      "outputs": [
        {
          "output_type": "stream",
          "name": "stdout",
          "text": [
            "média: 0.5000343638694618 erro absoluto: 3.4363869461762064e-05\n"
          ]
        }
      ]
    },
    {
      "cell_type": "markdown",
      "source": [
        "### 29. Produto cartesiano (broadcasting)  _(médio)_\n",
        "\n",
        "Dado `a=[1,2,3]` e `b=[10,20,30,40]`, gere todas as somas possíveis `a_i + b_j` via broadcasting (matriz 3×4)."
      ],
      "metadata": {
        "id": "5mo6UMAgNPSy"
      }
    },
    {
      "cell_type": "code",
      "source": [
        "a = np.array([1, 2, 3])[:, None]\n",
        "b = np.array([10, 20, 30, 40])[None, :]\n",
        "S = a + b\n",
        "print(S)"
      ],
      "metadata": {
        "id": "xhnJcK_mNUoC",
        "outputId": "8f15a314-7b08-4f70-f697-bab7ed586c61",
        "colab": {
          "base_uri": "https://localhost:8080/"
        }
      },
      "execution_count": 48,
      "outputs": [
        {
          "output_type": "stream",
          "name": "stdout",
          "text": [
            "[[11 21 31 41]\n",
            " [12 22 32 42]\n",
            " [13 23 33 43]]\n"
          ]
        }
      ]
    },
    {
      "cell_type": "markdown",
      "source": [
        "### 30. Convolução 1D simples  _(médio)_\n",
        "\n",
        "Implemente uma convolução 1D 'valid' de um sinal `s` por um kernel `k` usando `np.flip` e `np.lib.stride_tricks.sliding_window_view` (sem `np.convolve`)."
      ],
      "metadata": {
        "id": "5jgw2d3BNeQp"
      }
    },
    {
      "cell_type": "code",
      "source": [
        "s = np.array([1, 2, 3, 4, 5])\n",
        "k = np.array([2, 1])\n",
        "\n",
        "k = np.flip(k)\n",
        "jan = np.lib.stride_tricks.sliding_window_view(s, len(k))\n",
        "conv = np.sum(jan * k, axis=1)\n",
        "\n",
        "print(conv)"
      ],
      "metadata": {
        "id": "cfTrYEu-OTqb",
        "outputId": "92d7855d-8c53-4e71-eb2e-befe631bf66d",
        "colab": {
          "base_uri": "https://localhost:8080/"
        }
      },
      "execution_count": 49,
      "outputs": [
        {
          "output_type": "stream",
          "name": "stdout",
          "text": [
            "[ 5  8 11 14]\n"
          ]
        }
      ]
    },
    {
      "cell_type": "markdown",
      "source": [],
      "metadata": {
        "id": "aDb4cw8qOZHL"
      }
    }
  ]
}